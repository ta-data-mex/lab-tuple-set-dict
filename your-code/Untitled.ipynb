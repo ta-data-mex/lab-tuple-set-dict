{
 "cells": [
  {
   "cell_type": "code",
   "execution_count": 1,
   "id": "7dc4fbc8",
   "metadata": {},
   "outputs": [],
   "source": [
    "word_freq = {'love': 25, 'conversation': 1, 'every': 6, \"we're\": 1, 'plate': 1, 'sour': 1, 'jukebox': 1, 'now': 11, 'taxi': 1, 'fast': 1, 'bag': 1, 'man': 1, 'push': 3, 'baby': 14, 'going': 1, 'you': 16, \"don't\": 2, 'one': 1, 'mind': 2, 'backseat': 1, 'friends': 1, 'then': 3, 'know': 2, 'take': 1, 'play': 1, 'okay': 1, 'so': 2, 'begin': 1, 'start': 2, 'over': 1, 'body': 17, 'boy': 2, 'just': 1, 'we': 7, 'are': 1, 'girl': 2, 'tell': 1, 'singing': 2, 'drinking': 1, 'put': 3, 'our': 1, 'where': 1, \"i'll\": 1, 'all': 1, \"isn't\": 1, 'make': 1, 'lover': 1, 'get': 1, 'radio': 1, 'give': 1, \"i'm\": 23, 'like': 10, 'can': 1, 'doing': 2, 'with': 22, 'club': 1, 'come': 37, 'it': 1, 'somebody': 2, 'handmade': 2, 'out': 1, 'new': 6, 'room': 3, 'chance': 1, 'follow': 6, 'in': 27, 'may': 2, 'brand': 6, 'that': 2, 'magnet': 3, 'up': 3, 'first': 1, 'and': 23, 'pull': 3, 'of': 6, 'table': 1, 'much': 2, 'last': 3, 'i': 6, 'thrifty': 1, 'grab': 2, 'was': 2, 'driver': 1, 'slow': 1, 'dance': 1, 'the': 18, 'say': 2, 'trust': 1, 'family': 1, 'week': 1, 'date': 1, 'me': 10, 'do': 3, 'waist': 2, 'smell': 3, 'day': 6, 'although': 3, 'your': 21, 'leave': 1, 'want': 2, \"let's\": 2, 'lead': 6, 'at': 1, 'hand': 1, 'how': 1, 'talk': 4, 'not': 2, 'eat': 1, 'falling': 3, 'about': 1, 'story': 1, 'sweet': 1, 'best': 1, 'crazy': 2, 'let': 1, 'too': 5, 'van': 1, 'shots': 1, 'go': 2, 'to': 2, 'a': 8, 'my': 33, 'is': 5, 'place': 1, 'find': 1, 'shape': 6, 'on': 40, 'kiss': 1, 'were': 3, 'night': 3, 'heart': 3, 'for': 3, 'discovering': 6, 'something': 6, 'be': 16, 'bedsheets': 3, 'fill': 2, 'hours': 2, 'stop': 1, 'bar': 1}"
   ]
  },
  {
   "cell_type": "code",
   "execution_count": 8,
   "id": "71885118",
   "metadata": {},
   "outputs": [
    {
     "name": "stdout",
     "output_type": "stream",
     "text": [
      "[('a', 8), ('about', 1), ('all', 1), ('although', 3), ('and', 23), ('are', 1), ('at', 1), ('baby', 14), ('backseat', 1), ('bag', 1), ('bar', 1), ('be', 16), ('bedsheets', 3), ('begin', 1), ('best', 1), ('body', 17), ('boy', 2), ('brand', 6), ('can', 1), ('chance', 1), ('club', 1), ('come', 37), ('conversation', 1), ('crazy', 2), ('dance', 1), ('date', 1), ('day', 6), ('discovering', 6), ('do', 3), ('doing', 2), (\"don't\", 2), ('drinking', 1), ('driver', 1), ('eat', 1), ('every', 6), ('falling', 3), ('family', 1), ('fast', 1), ('fill', 2), ('find', 1), ('first', 1), ('follow', 6), ('for', 3), ('friends', 1), ('get', 1), ('girl', 2), ('give', 1), ('go', 2), ('going', 1), ('grab', 2), ('hand', 1), ('handmade', 2), ('heart', 3), ('hours', 2), ('how', 1), ('i', 6), (\"i'll\", 1), (\"i'm\", 23), ('in', 27), ('is', 5), (\"isn't\", 1), ('it', 1), ('jukebox', 1), ('just', 1), ('kiss', 1), ('know', 2), ('last', 3), ('lead', 6), ('leave', 1), ('let', 1), (\"let's\", 2), ('like', 10), ('love', 25), ('lover', 1), ('magnet', 3), ('make', 1), ('man', 1), ('may', 2), ('me', 10), ('mind', 2), ('much', 2), ('my', 33), ('new', 6), ('night', 3), ('not', 2), ('now', 11), ('of', 6), ('okay', 1), ('on', 40), ('one', 1), ('our', 1), ('out', 1), ('over', 1), ('place', 1), ('plate', 1), ('play', 1), ('pull', 3), ('push', 3), ('put', 3), ('radio', 1), ('room', 3), ('say', 2), ('shape', 6), ('shots', 1), ('singing', 2), ('slow', 1), ('smell', 3), ('so', 2), ('somebody', 2), ('something', 6), ('sour', 1), ('start', 2), ('stop', 1), ('story', 1), ('sweet', 1), ('table', 1), ('take', 1), ('talk', 4), ('taxi', 1), ('tell', 1), ('that', 2), ('the', 18), ('then', 3), ('thrifty', 1), ('to', 2), ('too', 5), ('trust', 1), ('up', 3), ('van', 1), ('waist', 2), ('want', 2), ('was', 2), ('we', 7), (\"we're\", 1), ('week', 1), ('were', 3), ('where', 1), ('with', 22), ('you', 16), ('your', 21)]\n"
     ]
    }
   ],
   "source": [
    "word_freq_sort=sorted(list(word_freq.items()))\n",
    "print(word_freq_sort)"
   ]
  },
  {
   "cell_type": "code",
   "execution_count": null,
   "id": "8314f50d",
   "metadata": {},
   "outputs": [],
   "source": []
  },
  {
   "cell_type": "raw",
   "id": "6e4ddcc6",
   "metadata": {},
   "source": [
    "word_freq_sort=sorted(word_freq)"
   ]
  }
 ],
 "metadata": {
  "kernelspec": {
   "display_name": "Python 3 (ipykernel)",
   "language": "python",
   "name": "python3"
  },
  "language_info": {
   "codemirror_mode": {
    "name": "ipython",
    "version": 3
   },
   "file_extension": ".py",
   "mimetype": "text/x-python",
   "name": "python",
   "nbconvert_exporter": "python",
   "pygments_lexer": "ipython3",
   "version": "3.9.7"
  }
 },
 "nbformat": 4,
 "nbformat_minor": 5
}

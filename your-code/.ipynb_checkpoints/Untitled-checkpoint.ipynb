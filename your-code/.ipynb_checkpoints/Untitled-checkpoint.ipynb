{
 "cells": [
  {
   "cell_type": "markdown",
   "id": "2af1585f-06e3-4a75-8df6-81425bd41eaf",
   "metadata": {},
   "source": [
    "## Lista"
   ]
  },
  {
   "cell_type": "code",
   "execution_count": null,
   "id": "eb75ac59-4106-43d1-a445-7ab17215b9d5",
   "metadata": {},
   "outputs": [],
   "source": [
    "¿Que es una lista?\n",
    "Una estructura de datos que puede contener datos en su interior y que es modificable.\n",
    "Se pueden tener numeros,letras, listas, tuplas,listas. falso y verdader, sets e incluso diccionarios.\n",
    "lista=[1,'a',['hello'],(20,21),falso, verdadero,{65,34,21},{'llave':valor}]"
   ]
  },
  {
   "cell_type": "markdown",
   "id": "54875c76-7ec7-4666-998d-68dc50ee6c67",
   "metadata": {},
   "source": [
    "##Comprensiones de listas"
   ]
  },
  {
   "cell_type": "code",
   "execution_count": 1,
   "id": "f8b9f01d-8055-4c32-9fde-9ffb98beeacd",
   "metadata": {},
   "outputs": [
    {
     "name": "stdout",
     "output_type": "stream",
     "text": [
      "[2, 4, 6, 8, 10, 12, 14, 16, 18, 20, 22, 24, 26, 28, 30, 32, 34, 36, 38, 40, 42, 44, 46, 48, 50, 52, 54, 56, 58, 60]\n"
     ]
    }
   ],
   "source": [
    "pares=[]\n",
    "for i in range(2,61,2):\n",
    "    pares.append(i)\n",
    "print(pares)"
   ]
  },
  {
   "cell_type": "code",
   "execution_count": 2,
   "id": "a62592d6-4b89-443c-913c-353f94e847eb",
   "metadata": {},
   "outputs": [
    {
     "name": "stdout",
     "output_type": "stream",
     "text": [
      "[2, 4, 6, 8, 10, 12, 14, 16, 18, 20, 22, 24, 26, 28, 30, 32, 34, 36, 38, 40, 42, 44, 46, 48, 50, 52, 54, 56, 58, 60]\n"
     ]
    }
   ],
   "source": [
    "#Lo que me regresa\n",
    "pares=[i for i in range(2,61,2)]\n",
    "print(pares)\n"
   ]
  },
  {
   "cell_type": "code",
   "execution_count": 6,
   "id": "19cb6bd8-2d4a-4c63-b748-74cf484e0e01",
   "metadata": {},
   "outputs": [
    {
     "name": "stdout",
     "output_type": "stream",
     "text": [
      "Nuevo Leon 1000M\n",
      "\n",
      "CDMX 6000M\n",
      "\n",
      "Hidalgo 950K\n",
      "\n",
      "Edomex 18000M\n",
      "\n",
      "Chihuahua 3700M\n",
      "\n"
     ]
    }
   ],
   "source": [
    "edos=['Nuevo Leon','CDMX','Hidalgo','Edomex','Chihuahua']\n",
    "poblacion=[1_000,6_000,950,18_000,3_700]\n",
    "for i in range(len(edos)):\n",
    "#    print(i)\n",
    "#    print(poblacion[i])\n",
    "    if poblacion[i] >= 1_000:\n",
    "        print(edos[i],str(poblacion[i])+'M')\n",
    "    else:\n",
    "        print(edos[i], str(poblacion[i])+'K')\n",
    "    print()"
   ]
  },
  {
   "cell_type": "code",
   "execution_count": 9,
   "id": "5087db10-e346-48ee-ba3e-6c1120802abc",
   "metadata": {},
   "outputs": [
    {
     "data": {
      "text/plain": [
       "[('Nuevo Leon', 1000),\n",
       " ('CDMX', 6000),\n",
       " ('Hidalgo', 950),\n",
       " ('Edomex', 18000),\n",
       " ('Chihuahua', 3700)]"
      ]
     },
     "execution_count": 9,
     "metadata": {},
     "output_type": "execute_result"
    }
   ],
   "source": [
    "edo_pob=[(edos[i],poblacion[i]) for i in range(len(edos))]\n",
    "edo_pob"
   ]
  },
  {
   "cell_type": "code",
   "execution_count": 10,
   "id": "9c0c2c5f-ad20-443e-bbff-e835ef7c8485",
   "metadata": {},
   "outputs": [
    {
     "name": "stdout",
     "output_type": "stream",
     "text": [
      "Nuevo Leon 1000M\n",
      "CDMX 6000M\n",
      "Hidalgo 950K\n",
      "Edomex 18000M\n",
      "Chihuahua 3700M\n"
     ]
    }
   ],
   "source": [
    "edos=['Nuevo Leon','CDMX','Hidalgo','Edomex','Chihuahua']\n",
    "poblacion=[1_000,6_000,950,18_000,3_700]\n",
    "for edo, pob in zip(edos,poblacion):\n",
    "    if pob >=1_000:\n",
    "        print(edo,str(pob)+'M')\n",
    "    else:\n",
    "        print(edo,str(pob)+'K')"
   ]
  },
  {
   "cell_type": "code",
   "execution_count": 11,
   "id": "b95e94d1-3b55-4695-b9a4-734e2fddf0e1",
   "metadata": {},
   "outputs": [
    {
     "data": {
      "text/plain": [
       "[('Nuevo Leon', 1000),\n",
       " ('CDMX', 6000),\n",
       " ('Hidalgo', 950),\n",
       " ('Edomex', 18000),\n",
       " ('Chihuahua', 3700)]"
      ]
     },
     "execution_count": 11,
     "metadata": {},
     "output_type": "execute_result"
    }
   ],
   "source": [
    "edo_pob=[(edo,pob) for edo,pob in zip(edos,poblacion)]\n",
    "edo_pob"
   ]
  },
  {
   "cell_type": "code",
   "execution_count": 13,
   "id": "a5e53664-d69f-49c7-b330-329e4e743ad6",
   "metadata": {},
   "outputs": [
    {
     "data": {
      "text/plain": [
       "['Nuevo Leon1000M', 'CDMX6000M', 'Edomex18000M', 'Chihuahua3700M']"
      ]
     },
     "execution_count": 13,
     "metadata": {},
     "output_type": "execute_result"
    }
   ],
   "source": [
    "edos=['Nuevo Leon','CDMX','Hidalgo','Edomex','Chihuahua']\n",
    "poblacion=[1_000,6_000,950,18_000,3_700]\n",
    "\n",
    "edo_pob=[edo+str(pob)+'M'for edo, pob in zip(edos,poblacion) if pob >=1_000]\n",
    "edo_pob"
   ]
  },
  {
   "cell_type": "code",
   "execution_count": 20,
   "id": "4d1e5cfb-74e6-483c-b044-64ff3d1ea471",
   "metadata": {},
   "outputs": [
    {
     "data": {
      "text/plain": [
       "['Nuevo Leon 1000M',\n",
       " 'CDMX 6000M',\n",
       " 'Hidalgo 950K',\n",
       " 'Edomex 18000M',\n",
       " 'Chihuahua 3700M']"
      ]
     },
     "execution_count": 20,
     "metadata": {},
     "output_type": "execute_result"
    }
   ],
   "source": [
    "edos=['Nuevo Leon','CDMX','Hidalgo','Edomex','Chihuahua']\n",
    "poblacion=[1_000,6_000,950,18_000,3_700]\n",
    "\n",
    "edo_pob=[(edo+' '+str(pob)+'M') if pob >= 1_000 else (edo+' '+str(pob)+'K')for edo, pob in zip(edos, poblacion)]\n",
    "edo_pob"
   ]
  },
  {
   "cell_type": "code",
   "execution_count": 23,
   "id": "1e17299c-40fc-4368-97bf-b2baacc905e6",
   "metadata": {},
   "outputs": [
    {
     "name": "stdout",
     "output_type": "stream",
     "text": [
      "100\n",
      "Se paso\n",
      "150\n",
      "125\n",
      "Se paso\n",
      "Se paso\n"
     ]
    }
   ],
   "source": [
    "numeros=[100,200,150,125,300,450]\n",
    "\n",
    "for num in numeros:\n",
    "#    print(num)\n",
    "    if num < 200:\n",
    "        print(num)\n",
    "    else:\n",
    "        print('Se paso')"
   ]
  },
  {
   "cell_type": "code",
   "execution_count": 24,
   "id": "65a7bb9b-1512-4eb2-9e29-4ada7e1007cb",
   "metadata": {},
   "outputs": [
    {
     "name": "stdout",
     "output_type": "stream",
     "text": [
      "[100, 'Se paso', 150, 125, 'Se paso', 'Se paso']\n"
     ]
    }
   ],
   "source": [
    "def doscientos_para_arriba(numero):\n",
    "    return numero if numero < 200 else 'Se paso'\n",
    "\n",
    "numeros=[100,200,150,125,300,450]\n",
    "numeros_filtrados=[doscientos_para_arriba(num) for num in numeros]\n",
    "print(numeros_filtrados)"
   ]
  },
  {
   "cell_type": "code",
   "execution_count": 26,
   "id": "e07b9cd3-f193-470b-8222-9ca12a71ce25",
   "metadata": {},
   "outputs": [
    {
     "name": "stdout",
     "output_type": "stream",
     "text": [
      "Valor primer for_ 0 Valor segundo for: 0\n",
      "Valor primer for_ 0 Valor segundo for: 1\n",
      "Valor primer for_ 0 Valor segundo for: 2\n",
      "Valor primer for_ 0 Valor segundo for: 3\n",
      "Valor primer for_ 0 Valor segundo for: 4\n",
      "Valor primer for_ 1 Valor segundo for: 0\n",
      "Valor primer for_ 1 Valor segundo for: 1\n",
      "Valor primer for_ 1 Valor segundo for: 2\n",
      "Valor primer for_ 1 Valor segundo for: 3\n",
      "Valor primer for_ 1 Valor segundo for: 4\n",
      "Valor primer for_ 2 Valor segundo for: 0\n",
      "Valor primer for_ 2 Valor segundo for: 1\n",
      "Valor primer for_ 2 Valor segundo for: 2\n",
      "Valor primer for_ 2 Valor segundo for: 3\n",
      "Valor primer for_ 2 Valor segundo for: 4\n",
      "Valor primer for_ 3 Valor segundo for: 0\n",
      "Valor primer for_ 3 Valor segundo for: 1\n",
      "Valor primer for_ 3 Valor segundo for: 2\n",
      "Valor primer for_ 3 Valor segundo for: 3\n",
      "Valor primer for_ 3 Valor segundo for: 4\n",
      "Valor primer for_ 4 Valor segundo for: 0\n",
      "Valor primer for_ 4 Valor segundo for: 1\n",
      "Valor primer for_ 4 Valor segundo for: 2\n",
      "Valor primer for_ 4 Valor segundo for: 3\n",
      "Valor primer for_ 4 Valor segundo for: 4\n",
      "Valor primer for_ 5 Valor segundo for: 0\n",
      "Valor primer for_ 5 Valor segundo for: 1\n",
      "Valor primer for_ 5 Valor segundo for: 2\n",
      "Valor primer for_ 5 Valor segundo for: 3\n",
      "Valor primer for_ 5 Valor segundo for: 4\n",
      "Valor primer for_ 6 Valor segundo for: 0\n",
      "Valor primer for_ 6 Valor segundo for: 1\n",
      "Valor primer for_ 6 Valor segundo for: 2\n",
      "Valor primer for_ 6 Valor segundo for: 3\n",
      "Valor primer for_ 6 Valor segundo for: 4\n",
      "Valor primer for_ 7 Valor segundo for: 0\n",
      "Valor primer for_ 7 Valor segundo for: 1\n",
      "Valor primer for_ 7 Valor segundo for: 2\n",
      "Valor primer for_ 7 Valor segundo for: 3\n",
      "Valor primer for_ 7 Valor segundo for: 4\n",
      "Valor primer for_ 8 Valor segundo for: 0\n",
      "Valor primer for_ 8 Valor segundo for: 1\n",
      "Valor primer for_ 8 Valor segundo for: 2\n",
      "Valor primer for_ 8 Valor segundo for: 3\n",
      "Valor primer for_ 8 Valor segundo for: 4\n",
      "Valor primer for_ 9 Valor segundo for: 0\n",
      "Valor primer for_ 9 Valor segundo for: 1\n",
      "Valor primer for_ 9 Valor segundo for: 2\n",
      "Valor primer for_ 9 Valor segundo for: 3\n",
      "Valor primer for_ 9 Valor segundo for: 4\n",
      "Valor primer for_ 10 Valor segundo for: 0\n",
      "Valor primer for_ 10 Valor segundo for: 1\n",
      "Valor primer for_ 10 Valor segundo for: 2\n",
      "Valor primer for_ 10 Valor segundo for: 3\n",
      "Valor primer for_ 10 Valor segundo for: 4\n",
      "Valor primer for_ 11 Valor segundo for: 0\n",
      "Valor primer for_ 11 Valor segundo for: 1\n",
      "Valor primer for_ 11 Valor segundo for: 2\n",
      "Valor primer for_ 11 Valor segundo for: 3\n",
      "Valor primer for_ 11 Valor segundo for: 4\n",
      "Valor primer for_ 12 Valor segundo for: 0\n",
      "Valor primer for_ 12 Valor segundo for: 1\n",
      "Valor primer for_ 12 Valor segundo for: 2\n",
      "Valor primer for_ 12 Valor segundo for: 3\n",
      "Valor primer for_ 12 Valor segundo for: 4\n",
      "Valor primer for_ 13 Valor segundo for: 0\n",
      "Valor primer for_ 13 Valor segundo for: 1\n",
      "Valor primer for_ 13 Valor segundo for: 2\n",
      "Valor primer for_ 13 Valor segundo for: 3\n",
      "Valor primer for_ 13 Valor segundo for: 4\n",
      "Valor primer for_ 14 Valor segundo for: 0\n",
      "Valor primer for_ 14 Valor segundo for: 1\n",
      "Valor primer for_ 14 Valor segundo for: 2\n",
      "Valor primer for_ 14 Valor segundo for: 3\n",
      "Valor primer for_ 14 Valor segundo for: 4\n",
      "Valor primer for_ 15 Valor segundo for: 0\n",
      "Valor primer for_ 15 Valor segundo for: 1\n",
      "Valor primer for_ 15 Valor segundo for: 2\n",
      "Valor primer for_ 15 Valor segundo for: 3\n",
      "Valor primer for_ 15 Valor segundo for: 4\n",
      "Valor primer for_ 16 Valor segundo for: 0\n",
      "Valor primer for_ 16 Valor segundo for: 1\n",
      "Valor primer for_ 16 Valor segundo for: 2\n",
      "Valor primer for_ 16 Valor segundo for: 3\n",
      "Valor primer for_ 16 Valor segundo for: 4\n",
      "Valor primer for_ 17 Valor segundo for: 0\n",
      "Valor primer for_ 17 Valor segundo for: 1\n",
      "Valor primer for_ 17 Valor segundo for: 2\n",
      "Valor primer for_ 17 Valor segundo for: 3\n",
      "Valor primer for_ 17 Valor segundo for: 4\n",
      "Valor primer for_ 18 Valor segundo for: 0\n",
      "Valor primer for_ 18 Valor segundo for: 1\n",
      "Valor primer for_ 18 Valor segundo for: 2\n",
      "Valor primer for_ 18 Valor segundo for: 3\n",
      "Valor primer for_ 18 Valor segundo for: 4\n",
      "Valor primer for_ 19 Valor segundo for: 0\n",
      "Valor primer for_ 19 Valor segundo for: 1\n",
      "Valor primer for_ 19 Valor segundo for: 2\n",
      "Valor primer for_ 19 Valor segundo for: 3\n",
      "Valor primer for_ 19 Valor segundo for: 4\n"
     ]
    }
   ],
   "source": [
    "for i in range(20):\n",
    "    for j in range(5):\n",
    "        print('Valor primer for_', i,'Valor segundo for:',j)"
   ]
  },
  {
   "cell_type": "code",
   "execution_count": 27,
   "id": "60753710-bc08-420a-8f25-2feeb858d7ec",
   "metadata": {},
   "outputs": [
    {
     "data": {
      "text/plain": [
       "[(0, 0),\n",
       " (0, 1),\n",
       " (0, 2),\n",
       " (0, 3),\n",
       " (0, 4),\n",
       " (1, 0),\n",
       " (1, 1),\n",
       " (1, 2),\n",
       " (1, 3),\n",
       " (1, 4),\n",
       " (2, 0),\n",
       " (2, 1),\n",
       " (2, 2),\n",
       " (2, 3),\n",
       " (2, 4),\n",
       " (3, 0),\n",
       " (3, 1),\n",
       " (3, 2),\n",
       " (3, 3),\n",
       " (3, 4),\n",
       " (4, 0),\n",
       " (4, 1),\n",
       " (4, 2),\n",
       " (4, 3),\n",
       " (4, 4),\n",
       " (5, 0),\n",
       " (5, 1),\n",
       " (5, 2),\n",
       " (5, 3),\n",
       " (5, 4),\n",
       " (6, 0),\n",
       " (6, 1),\n",
       " (6, 2),\n",
       " (6, 3),\n",
       " (6, 4),\n",
       " (7, 0),\n",
       " (7, 1),\n",
       " (7, 2),\n",
       " (7, 3),\n",
       " (7, 4),\n",
       " (8, 0),\n",
       " (8, 1),\n",
       " (8, 2),\n",
       " (8, 3),\n",
       " (8, 4),\n",
       " (9, 0),\n",
       " (9, 1),\n",
       " (9, 2),\n",
       " (9, 3),\n",
       " (9, 4),\n",
       " (10, 0),\n",
       " (10, 1),\n",
       " (10, 2),\n",
       " (10, 3),\n",
       " (10, 4),\n",
       " (11, 0),\n",
       " (11, 1),\n",
       " (11, 2),\n",
       " (11, 3),\n",
       " (11, 4),\n",
       " (12, 0),\n",
       " (12, 1),\n",
       " (12, 2),\n",
       " (12, 3),\n",
       " (12, 4),\n",
       " (13, 0),\n",
       " (13, 1),\n",
       " (13, 2),\n",
       " (13, 3),\n",
       " (13, 4),\n",
       " (14, 0),\n",
       " (14, 1),\n",
       " (14, 2),\n",
       " (14, 3),\n",
       " (14, 4),\n",
       " (15, 0),\n",
       " (15, 1),\n",
       " (15, 2),\n",
       " (15, 3),\n",
       " (15, 4),\n",
       " (16, 0),\n",
       " (16, 1),\n",
       " (16, 2),\n",
       " (16, 3),\n",
       " (16, 4),\n",
       " (17, 0),\n",
       " (17, 1),\n",
       " (17, 2),\n",
       " (17, 3),\n",
       " (17, 4),\n",
       " (18, 0),\n",
       " (18, 1),\n",
       " (18, 2),\n",
       " (18, 3),\n",
       " (18, 4),\n",
       " (19, 0),\n",
       " (19, 1),\n",
       " (19, 2),\n",
       " (19, 3),\n",
       " (19, 4)]"
      ]
     },
     "execution_count": 27,
     "metadata": {},
     "output_type": "execute_result"
    }
   ],
   "source": [
    "for_anidado=[(i,j) for i in range(20) for j in range(5)]\n",
    "for_anidado"
   ]
  },
  {
   "cell_type": "code",
   "execution_count": 29,
   "id": "63c63c61-77b9-4a94-88ee-95bf5140017c",
   "metadata": {},
   "outputs": [
    {
     "name": "stdout",
     "output_type": "stream",
     "text": [
      "0\n",
      "[0]\n",
      "[0, 1]\n",
      "[0, 1, 2]\n",
      "[0, 1, 2, 3]\n",
      "[0, 1, 2, 3, 4]\n",
      "[[0, 1, 2, 3, 4]]\n",
      "1\n",
      "[0]\n",
      "[0, 1]\n",
      "[0, 1, 2]\n",
      "[0, 1, 2, 3]\n",
      "[0, 1, 2, 3, 4]\n",
      "[[0, 1, 2, 3, 4], [0, 1, 2, 3, 4]]\n",
      "2\n",
      "[0]\n",
      "[0, 1]\n",
      "[0, 1, 2]\n",
      "[0, 1, 2, 3]\n",
      "[0, 1, 2, 3, 4]\n",
      "[[0, 1, 2, 3, 4], [0, 1, 2, 3, 4], [0, 1, 2, 3, 4]]\n",
      "3\n",
      "[0]\n",
      "[0, 1]\n",
      "[0, 1, 2]\n",
      "[0, 1, 2, 3]\n",
      "[0, 1, 2, 3, 4]\n",
      "[[0, 1, 2, 3, 4], [0, 1, 2, 3, 4], [0, 1, 2, 3, 4], [0, 1, 2, 3, 4]]\n",
      "4\n",
      "[0]\n",
      "[0, 1]\n",
      "[0, 1, 2]\n",
      "[0, 1, 2, 3]\n",
      "[0, 1, 2, 3, 4]\n",
      "[[0, 1, 2, 3, 4], [0, 1, 2, 3, 4], [0, 1, 2, 3, 4], [0, 1, 2, 3, 4], [0, 1, 2, 3, 4]]\n",
      "5\n",
      "[0]\n",
      "[0, 1]\n",
      "[0, 1, 2]\n",
      "[0, 1, 2, 3]\n",
      "[0, 1, 2, 3, 4]\n",
      "[[0, 1, 2, 3, 4], [0, 1, 2, 3, 4], [0, 1, 2, 3, 4], [0, 1, 2, 3, 4], [0, 1, 2, 3, 4], [0, 1, 2, 3, 4]]\n",
      "6\n",
      "[0]\n",
      "[0, 1]\n",
      "[0, 1, 2]\n",
      "[0, 1, 2, 3]\n",
      "[0, 1, 2, 3, 4]\n",
      "[[0, 1, 2, 3, 4], [0, 1, 2, 3, 4], [0, 1, 2, 3, 4], [0, 1, 2, 3, 4], [0, 1, 2, 3, 4], [0, 1, 2, 3, 4], [0, 1, 2, 3, 4]]\n"
     ]
    },
    {
     "data": {
      "text/plain": [
       "[[0, 1, 2, 3, 4],\n",
       " [0, 1, 2, 3, 4],\n",
       " [0, 1, 2, 3, 4],\n",
       " [0, 1, 2, 3, 4],\n",
       " [0, 1, 2, 3, 4],\n",
       " [0, 1, 2, 3, 4],\n",
       " [0, 1, 2, 3, 4]]"
      ]
     },
     "execution_count": 29,
     "metadata": {},
     "output_type": "execute_result"
    }
   ],
   "source": [
    "matriz=[]\n",
    "\n",
    "for i in range(7):\n",
    "    print(i)\n",
    "    vector=[]\n",
    "    for j in range(5):\n",
    "        vector.append(j)\n",
    "        print(vector)\n",
    "    matriz.append(vector)\n",
    "    print(matriz)\n",
    "matriz\n",
    "    "
   ]
  },
  {
   "cell_type": "code",
   "execution_count": 30,
   "id": "ce347a2c-8171-4bc9-bf7c-4a54fcc8885e",
   "metadata": {},
   "outputs": [
    {
     "data": {
      "text/plain": [
       "[[0, 1, 2, 3, 4],\n",
       " [0, 1, 2, 3, 4],\n",
       " [0, 1, 2, 3, 4],\n",
       " [0, 1, 2, 3, 4],\n",
       " [0, 1, 2, 3, 4],\n",
       " [0, 1, 2, 3, 4],\n",
       " [0, 1, 2, 3, 4]]"
      ]
     },
     "execution_count": 30,
     "metadata": {},
     "output_type": "execute_result"
    }
   ],
   "source": [
    "matriz=[[j for j in range(5)]for i in range(7)]\n",
    "matriz"
   ]
  },
  {
   "cell_type": "code",
   "execution_count": 31,
   "id": "c018779f-6317-4f57-be9d-39503a4396e6",
   "metadata": {},
   "outputs": [
    {
     "name": "stdout",
     "output_type": "stream",
     "text": [
      "[0, 1, 2, 3, 4, 0, 1, 2, 3, 4, 0, 1, 2, 3, 4, 0, 1, 2, 3, 4, 0, 1, 2, 3, 4, 0, 1, 2, 3, 4, 0, 1, 2, 3, 4]\n"
     ]
    }
   ],
   "source": [
    "matriz_aplanada=[num for vector in matriz for num in vector]\n",
    "print(matriz_aplanada)"
   ]
  },
  {
   "cell_type": "code",
   "execution_count": null,
   "id": "caf264a9-afd6-4457-8129-8782ef66ca1c",
   "metadata": {},
   "outputs": [],
   "source": []
  }
 ],
 "metadata": {
  "kernelspec": {
   "display_name": "Python 3",
   "language": "python",
   "name": "python3"
  },
  "language_info": {
   "codemirror_mode": {
    "name": "ipython",
    "version": 3
   },
   "file_extension": ".py",
   "mimetype": "text/x-python",
   "name": "python",
   "nbconvert_exporter": "python",
   "pygments_lexer": "ipython3",
   "version": "3.8.8"
  }
 },
 "nbformat": 4,
 "nbformat_minor": 5
}

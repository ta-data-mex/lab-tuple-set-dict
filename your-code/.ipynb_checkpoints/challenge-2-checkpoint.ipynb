{
 "cells": [
  {
   "cell_type": "markdown",
   "metadata": {},
   "source": [
    "## Challenge 2: Sets\n",
    "\n",
    "There are a lot to learn about Python Sets and the information presented in the lesson is limited due to its length. To learn Python Sets in depth you are strongly encouraged to review the W3Schools tutorial on [Python Sets Examples and Methods](https://www.w3schools.com/python/python_sets.asp) before you work on this lab. Some difficult questions in this lab have their solutions in the W3Schools tutorial.\n",
    "\n",
    "#### First, import the Python `random` libary"
   ]
  },
  {
   "cell_type": "code",
   "execution_count": 1,
   "metadata": {},
   "outputs": [],
   "source": [
    "import random"
   ]
  },
  {
   "cell_type": "markdown",
   "metadata": {},
   "source": [
    "#### In the cell below, create a list named `sample_list_1` with 80 random values. \n",
    "\n",
    "Requirements:\n",
    "\n",
    "* Each value is an integer falling between 0 and 100.\n",
    "* Each value in the list is unique.\n",
    "\n",
    "Print `sample_list_1` to review its values\n",
    "\n",
    "*Hint: use `random.sample` ([reference](https://docs.python.org/3/library/random.html#random.sample)).*"
   ]
  },
  {
   "cell_type": "code",
   "execution_count": 34,
   "metadata": {},
   "outputs": [
    {
     "data": {
      "text/plain": [
       "[32,\n",
       " 6,\n",
       " 0,\n",
       " 60,\n",
       " 43,\n",
       " 87,\n",
       " 70,\n",
       " 8,\n",
       " 85,\n",
       " 4,\n",
       " 89,\n",
       " 2,\n",
       " 92,\n",
       " 77,\n",
       " 35,\n",
       " 72,\n",
       " 53,\n",
       " 71,\n",
       " 31,\n",
       " 23,\n",
       " 21,\n",
       " 67,\n",
       " 94,\n",
       " 15,\n",
       " 33,\n",
       " 93,\n",
       " 63,\n",
       " 88,\n",
       " 81,\n",
       " 90,\n",
       " 18,\n",
       " 78,\n",
       " 61,\n",
       " 57,\n",
       " 11,\n",
       " 95,\n",
       " 38,\n",
       " 17,\n",
       " 82,\n",
       " 84,\n",
       " 91,\n",
       " 51,\n",
       " 29,\n",
       " 50,\n",
       " 36,\n",
       " 12,\n",
       " 86,\n",
       " 96,\n",
       " 56,\n",
       " 10,\n",
       " 9,\n",
       " 1,\n",
       " 26,\n",
       " 30,\n",
       " 19,\n",
       " 13,\n",
       " 28,\n",
       " 54,\n",
       " 47,\n",
       " 80,\n",
       " 3,\n",
       " 16,\n",
       " 66,\n",
       " 20,\n",
       " 62,\n",
       " 27,\n",
       " 98,\n",
       " 44,\n",
       " 83,\n",
       " 5,\n",
       " 14,\n",
       " 58,\n",
       " 97,\n",
       " 99,\n",
       " 48,\n",
       " 73,\n",
       " 22,\n",
       " 75,\n",
       " 41,\n",
       " 74]"
      ]
     },
     "execution_count": 34,
     "metadata": {},
     "output_type": "execute_result"
    }
   ],
   "source": [
    "# Your code here\n",
    "sample_list_1=random.sample(range(100), k=80)\n",
    "sample_list_1\n"
   ]
  },
  {
   "cell_type": "markdown",
   "metadata": {},
   "source": [
    "#### Convert `sample_list_1` to a set called `set1`. Print the length of the set. Is its length still 80?"
   ]
  },
  {
   "cell_type": "code",
   "execution_count": 75,
   "metadata": {},
   "outputs": [
    {
     "name": "stdout",
     "output_type": "stream",
     "text": [
      "{0, 1, 2, 3, 4, 5, 6, 8, 9, 10, 11, 12, 13, 14, 15, 16, 17, 18, 19, 20, 21, 22, 23, 26, 27, 28, 29, 30, 31, 32, 33, 35, 36, 38, 41, 43, 44, 47, 48, 50, 51, 53, 54, 56, 57, 58, 60, 61, 62, 63, 66, 67, 70, 71, 72, 73, 74, 75, 77, 78, 80, 81, 82, 83, 84, 85, 86, 87, 88, 89, 90, 91, 92, 93, 94, 95, 96, 97, 98, 99}\n"
     ]
    }
   ],
   "source": [
    "# Your code here\n",
    "set1=set(sample_list_1)\n",
    "print(set1)\n",
    "#print(len(set1))\n"
   ]
  },
  {
   "cell_type": "markdown",
   "metadata": {},
   "source": [
    "#### Create another list named `sample_list_2` with 80 random values.\n",
    "\n",
    "Requirements:\n",
    "\n",
    "* Each value is an integer falling between 0 and 100.\n",
    "* The values in the list don't have to be unique.\n",
    "\n",
    "*Hint: Use a FOR loop.*"
   ]
  },
  {
   "cell_type": "code",
   "execution_count": 42,
   "metadata": {},
   "outputs": [
    {
     "name": "stdout",
     "output_type": "stream",
     "text": [
      "57\n",
      "59\n",
      "23\n",
      "72\n",
      "9\n",
      "98\n",
      "15\n",
      "51\n",
      "95\n",
      "5\n",
      "94\n",
      "70\n",
      "75\n",
      "100\n",
      "19\n",
      "69\n",
      "99\n",
      "8\n",
      "85\n",
      "29\n",
      "60\n",
      "69\n",
      "82\n",
      "64\n",
      "32\n",
      "75\n",
      "25\n",
      "75\n",
      "54\n",
      "56\n",
      "89\n",
      "43\n",
      "78\n",
      "55\n",
      "72\n",
      "49\n",
      "22\n",
      "56\n",
      "52\n",
      "15\n",
      "0\n",
      "13\n",
      "9\n",
      "2\n",
      "2\n",
      "84\n",
      "35\n",
      "64\n",
      "61\n",
      "25\n",
      "74\n",
      "27\n",
      "91\n",
      "54\n",
      "95\n",
      "82\n",
      "41\n",
      "18\n",
      "18\n",
      "90\n",
      "57\n",
      "64\n",
      "78\n",
      "75\n",
      "94\n",
      "29\n",
      "50\n",
      "83\n",
      "76\n",
      "73\n",
      "10\n",
      "10\n",
      "38\n",
      "15\n",
      "77\n",
      "22\n",
      "34\n",
      "15\n",
      "57\n",
      "83\n",
      "[57, 59, 23, 72, 9, 98, 15, 51, 95, 5, 94, 70, 75, 100, 19, 69, 99, 8, 85, 29, 60, 69, 82, 64, 32, 75, 25, 75, 54, 56, 89, 43, 78, 55, 72, 49, 22, 56, 52, 15, 0, 13, 9, 2, 2, 84, 35, 64, 61, 25, 74, 27, 91, 54, 95, 82, 41, 18, 18, 90, 57, 64, 78, 75, 94, 29, 50, 83, 76, 73, 10, 10, 38, 15, 77, 22, 34, 15, 57, 83]\n"
     ]
    }
   ],
   "source": [
    "# Your code here\n",
    "sample_list_2=[]\n",
    "for i in range (80):\n",
    "    r=random.randint(0,100)\n",
    "    print(r)\n",
    "    sample_list_2.append(r)\n",
    "print(sample_list_2)\n"
   ]
  },
  {
   "cell_type": "code",
   "execution_count": 44,
   "metadata": {},
   "outputs": [
    {
     "name": "stdout",
     "output_type": "stream",
     "text": [
      "54\n"
     ]
    }
   ],
   "source": [
    "set2=set(sample_list_2)\n",
    "print(len(set2))"
   ]
  },
  {
   "cell_type": "markdown",
   "metadata": {},
   "source": [
    "#### Convert `sample_list_2` to a set called `set2`. Print the length of the set. Is its length still 80?"
   ]
  },
  {
   "cell_type": "code",
   "execution_count": 45,
   "metadata": {},
   "outputs": [
    {
     "name": "stdout",
     "output_type": "stream",
     "text": [
      "{0, 2, 5, 8, 9, 10, 13, 15, 18, 19, 22, 23, 25, 27, 29, 32, 34, 35, 38, 41, 43, 49, 50, 51, 52, 54, 55, 56, 57, 59, 60, 61, 64, 69, 70, 72, 73, 74, 75, 76, 77, 78, 82, 83, 84, 85, 89, 90, 91, 94, 95, 98, 99, 100}\n",
      "54\n"
     ]
    }
   ],
   "source": [
    "# Your code here\n",
    "set2=set(sample_list_2)\n",
    "print(set2)\n",
    "print(len(set2))\n"
   ]
  },
  {
   "cell_type": "markdown",
   "metadata": {},
   "source": [
    "#### Identify the elements present in `set1` but not in `set2`. Assign the elements to a new set named `set3`."
   ]
  },
  {
   "cell_type": "code",
   "execution_count": 48,
   "metadata": {},
   "outputs": [
    {
     "name": "stdout",
     "output_type": "stream",
     "text": [
      "{1, 3, 4, 6, 7, 11, 12, 14, 16, 17, 20, 21, 24, 26, 28, 31, 33, 37, 39, 42, 44, 47, 48, 53, 58, 62, 63, 65, 67, 68, 71, 79, 81, 86, 92, 93, 96, 97}\n",
      "38\n"
     ]
    }
   ],
   "source": [
    "# Your code here\n",
    "set3=set1 - set2\n",
    "print(set3)\n",
    "print(len(set3))\n"
   ]
  },
  {
   "cell_type": "markdown",
   "metadata": {},
   "source": [
    "#### Identify the elements present in `set2` but not in `set1`. Assign the elements to a new set named `set4`."
   ]
  },
  {
   "cell_type": "code",
   "execution_count": 50,
   "metadata": {},
   "outputs": [
    {
     "name": "stdout",
     "output_type": "stream",
     "text": [
      "{64, 100, 38, 8, 41, 76, 18, 19, 82, 85, 61, 94}\n",
      "12\n"
     ]
    }
   ],
   "source": [
    "# Your code here\n",
    "set4= set2 - set1\n",
    "print(set4)\n",
    "print(len(set4))"
   ]
  },
  {
   "cell_type": "markdown",
   "metadata": {},
   "source": [
    "#### Now Identify the elements shared between `set1` and `set2`. Assign the elements to a new set named `set5`."
   ]
  },
  {
   "cell_type": "code",
   "execution_count": 53,
   "metadata": {},
   "outputs": [
    {
     "name": "stdout",
     "output_type": "stream",
     "text": [
      "{0, 2, 5, 9, 10, 13, 15, 22, 23, 25, 27, 29, 32, 34, 35, 43, 49, 50, 51, 52, 54, 55, 56, 57, 59, 60, 69, 70, 72, 73, 74, 75, 77, 78, 83, 84, 89, 90, 91, 95, 98, 99}\n"
     ]
    }
   ],
   "source": [
    "# Your code here\n",
    "set5=set1.intersection(set2)\n",
    "print(set5)"
   ]
  },
  {
   "cell_type": "markdown",
   "metadata": {},
   "source": [
    "#### What is the relationship among the following values:\n",
    "\n",
    "* len(set1)\n",
    "* len(set2)\n",
    "* len(set3)\n",
    "* len(set4)\n",
    "* len(set5)\n",
    "\n",
    "Use a math formular to represent that relationship. Test your formular with Python code."
   ]
  },
  {
   "cell_type": "code",
   "execution_count": 57,
   "metadata": {},
   "outputs": [
    {
     "data": {
      "text/plain": [
       "False"
      ]
     },
     "execution_count": 57,
     "metadata": {},
     "output_type": "execute_result"
    }
   ],
   "source": [
    "# Your code here\n",
    "len(set1)+len(set2)==len(set3)+len(set4)"
   ]
  },
  {
   "cell_type": "markdown",
   "metadata": {},
   "source": [
    "#### Create an empty set called `set6`."
   ]
  },
  {
   "cell_type": "code",
   "execution_count": 59,
   "metadata": {},
   "outputs": [],
   "source": [
    "# Your code here\n",
    "set6=set()"
   ]
  },
  {
   "cell_type": "markdown",
   "metadata": {},
   "source": [
    "#### Add `set3` and `set5` to `set6` using the Python Set `update` method."
   ]
  },
  {
   "cell_type": "code",
   "execution_count": 60,
   "metadata": {},
   "outputs": [
    {
     "name": "stdout",
     "output_type": "stream",
     "text": [
      "{0, 1, 2, 3, 4, 5, 6, 7, 9, 10, 11, 12, 13, 14, 15, 16, 17, 20, 21, 22, 23, 24, 25, 26, 27, 28, 29, 31, 32, 33, 34, 35, 37, 39, 42, 43, 44, 47, 48, 49, 50, 51, 52, 53, 54, 55, 56, 57, 58, 59, 60, 62, 63, 65, 67, 68, 69, 70, 71, 72, 73, 74, 75, 77, 78, 79, 81, 83, 84, 86, 89, 90, 91, 92, 93, 95, 96, 97, 98, 99}\n"
     ]
    }
   ],
   "source": [
    "# Your code here\n",
    "set6.update(set3,set5)\n",
    "print(set6)"
   ]
  },
  {
   "cell_type": "markdown",
   "metadata": {},
   "source": [
    "#### Check if `set1` and `set6` are equal."
   ]
  },
  {
   "cell_type": "code",
   "execution_count": 61,
   "metadata": {},
   "outputs": [
    {
     "data": {
      "text/plain": [
       "True"
      ]
     },
     "execution_count": 61,
     "metadata": {},
     "output_type": "execute_result"
    }
   ],
   "source": [
    "# Your code here\n",
    "set1==set6"
   ]
  },
  {
   "cell_type": "markdown",
   "metadata": {},
   "source": [
    "#### Check if `set1` contains `set2` using the Python Set `issubset` method. Then check if `set1` contains `set3`.*"
   ]
  },
  {
   "cell_type": "code",
   "execution_count": 62,
   "metadata": {},
   "outputs": [
    {
     "data": {
      "text/plain": [
       "False"
      ]
     },
     "execution_count": 62,
     "metadata": {},
     "output_type": "execute_result"
    }
   ],
   "source": [
    "# Your code here\n",
    "set1.issubset(set2)"
   ]
  },
  {
   "cell_type": "code",
   "execution_count": 63,
   "metadata": {},
   "outputs": [
    {
     "data": {
      "text/plain": [
       "False"
      ]
     },
     "execution_count": 63,
     "metadata": {},
     "output_type": "execute_result"
    }
   ],
   "source": [
    "set1.issubset(set3)"
   ]
  },
  {
   "cell_type": "markdown",
   "metadata": {},
   "source": [
    "#### Using the Python Set `union` method, aggregate `set3`, `set4`, and `set5`. Then aggregate `set1` and `set2`. \n",
    "\n",
    "#### Check if the aggregated values are equal."
   ]
  },
  {
   "cell_type": "code",
   "execution_count": 65,
   "metadata": {},
   "outputs": [
    {
     "name": "stdout",
     "output_type": "stream",
     "text": [
      "{1, 3, 4, 6, 7, 11, 12, 14, 16, 17, 20, 21, 24, 26, 28, 31, 33, 37, 39, 42, 44, 47, 48, 53, 58, 62, 63, 65, 67, 68, 71, 79, 81, 86, 92, 93, 96, 97}\n"
     ]
    }
   ],
   "source": [
    "# Your code here\n",
    "set3.union(set4,set5)\n",
    "print(set3)"
   ]
  },
  {
   "cell_type": "code",
   "execution_count": 67,
   "metadata": {},
   "outputs": [
    {
     "name": "stdout",
     "output_type": "stream",
     "text": [
      "{1, 3, 4, 6, 7, 11, 12, 14, 16, 17, 20, 21, 24, 26, 28, 31, 33, 37, 39, 42, 44, 47, 48, 53, 58, 62, 63, 65, 67, 68, 71, 79, 81, 86, 92, 93, 96, 97}\n"
     ]
    }
   ],
   "source": [
    "set3.union(set1,set2)\n",
    "print(set3)"
   ]
  },
  {
   "cell_type": "markdown",
   "metadata": {},
   "source": [
    "#### Using the `pop` method, remove the first element from `set1`."
   ]
  },
  {
   "cell_type": "code",
   "execution_count": 74,
   "metadata": {},
   "outputs": [
    {
     "name": "stdout",
     "output_type": "stream",
     "text": [
      "{2, 3, 4, 5, 6, 7, 9, 10, 11, 12, 13, 14, 15, 16, 17, 20, 21, 22, 23, 24, 25, 26, 27, 28, 29, 31, 32, 33, 34, 35, 37, 39, 42, 43, 44, 47, 48, 49, 50, 51, 52, 53, 54, 55, 56, 57, 58, 59, 60, 62, 63, 65, 67, 68, 69, 70, 71, 72, 73, 74, 75, 77, 78, 79, 81, 83, 84, 86, 89, 90, 91, 92, 93, 95, 96, 97, 98, 99}\n"
     ]
    }
   ],
   "source": [
    "# Your code here\n",
    "\n",
    "set1.pop()\n",
    "print (set1)"
   ]
  },
  {
   "cell_type": "markdown",
   "metadata": {},
   "source": [
    "#### Remove every element in the following list from `set1` if they are present in the set. Print the remaining elements.\n",
    "\n",
    "```\n",
    "list_to_remove = [1, 9, 11, 19, 21, 29, 31, 39, 41, 49, 51, 59, 61, 69, 71, 79, 81, 89, 91, 99]\n",
    "```"
   ]
  },
  {
   "cell_type": "code",
   "execution_count": 86,
   "metadata": {},
   "outputs": [
    {
     "name": "stdout",
     "output_type": "stream",
     "text": [
      "{0, 2, 3, 4, 5, 6, 8, 10, 12, 13, 14, 15, 16, 17, 18, 20, 22, 23, 26, 27, 28, 30, 32, 33, 35, 36, 38, 43, 44, 47, 48, 50, 53, 54, 56, 57, 58, 60, 62, 63, 66, 67, 70, 72, 73, 74, 75, 77, 78, 80, 82, 83, 84, 85, 86, 87, 88, 90, 92, 93, 94, 95, 96, 97, 98}\n"
     ]
    }
   ],
   "source": [
    "# Your code here\n",
    "list_to_remove = [1, 9, 11, 19, 21, 29, 31, 39, 41, 49, 51, 59, 61, 69, 71, 79, 81, 89, 91, 99]\n",
    "set1= {0, 1, 2, 3, 4, 5, 6, 8, 9, 10, 11, 12, 13, 14, 15, 16, 17, 18, 19, 20, 21, 22, 23, 26, 27, 28, 29, 30, 31, 32, 33, 35, 36, 38, 41, 43, 44, 47, 48, 50, 51, 53, 54, 56, 57, 58, 60, 61, 62, 63, 66, 67, 70, 71, 72, 73, 74, 75, 77, 78, 80, 81, 82, 83, 84, 85, 86, 87, 88, 89, 90, 91, 92, 93, 94, 95, 96, 97, 98, 99}\n",
    "list1=list(set1)\n",
    "list2=[]\n",
    "\n",
    "for item in list1:\n",
    "    if item not in list_to_remove:\n",
    "        list2.append(item)\n",
    "#print(list2)\n",
    "set1=set(list2)\n",
    "print(set1)\n",
    "\n",
    "\n"
   ]
  },
  {
   "cell_type": "code",
   "execution_count": null,
   "metadata": {},
   "outputs": [],
   "source": []
  }
 ],
 "metadata": {
  "kernelspec": {
   "display_name": "Python 3",
   "language": "python",
   "name": "python3"
  },
  "language_info": {
   "codemirror_mode": {
    "name": "ipython",
    "version": 3
   },
   "file_extension": ".py",
   "mimetype": "text/x-python",
   "name": "python",
   "nbconvert_exporter": "python",
   "pygments_lexer": "ipython3",
   "version": "3.8.8"
  }
 },
 "nbformat": 4,
 "nbformat_minor": 4
}
